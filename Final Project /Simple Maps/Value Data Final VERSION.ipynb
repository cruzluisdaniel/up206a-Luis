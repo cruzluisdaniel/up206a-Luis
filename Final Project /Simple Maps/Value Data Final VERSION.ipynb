{
 "cells": [
  {
   "cell_type": "code",
   "execution_count": 11,
   "id": "46c28cc9-1d77-47ed-a225-441d44f85832",
   "metadata": {},
   "outputs": [],
   "source": [
    "import pandas as pd\n",
    "import numpy as np\n",
    "import seaborn as sns\n",
    "\n",
    "# the usuals\n",
    "import geopandas as gpd\n",
    "import matplotlib.pyplot as plt\n",
    "\n",
    "import contextily as ctx\n",
    "from sodapy import Socrata\n",
    "\n",
    "\n",
    "# to explore point patterns\n",
    "from pointpats import centrography\n",
    "from matplotlib.patches import Ellipse"
   ]
  },
  {
   "cell_type": "code",
   "execution_count": 12,
   "id": "0dae902d-0e96-4c43-bd4a-f86946fe005d",
   "metadata": {},
   "outputs": [],
   "source": [
    "from keplergl import KeplerGl"
   ]
  },
  {
   "cell_type": "code",
   "execution_count": 15,
   "id": "f871072b-3fcf-4b75-8596-7ffe13e92acb",
   "metadata": {},
   "outputs": [
    {
     "name": "stdout",
     "output_type": "stream",
     "text": [
      "User Guide: https://docs.kepler.gl/docs/keplergl-jupyter\n"
     ]
    },
    {
     "data": {
      "application/vnd.jupyter.widget-view+json": {
       "model_id": "b36a5ebaffa94ef2bba46c0f49cd9b4a",
       "version_major": 2,
       "version_minor": 0
      },
      "text/plain": [
       "KeplerGl(height=600)"
      ]
     },
     "metadata": {},
     "output_type": "display_data"
    }
   ],
   "source": [
    "map = KeplerGl(height=600,width=800)\n",
    "map"
   ]
  },
  {
   "cell_type": "code",
   "execution_count": 16,
   "id": "7f48578b-e65b-4be9-a273-eed230292e75",
   "metadata": {},
   "outputs": [],
   "source": [
    "df20 = pd.read_csv (r'Clean Final 2020 Value Data.csv')"
   ]
  },
  {
   "cell_type": "code",
   "execution_count": 17,
   "id": "f75792fa-e091-45b2-8f2a-e3dc82232253",
   "metadata": {},
   "outputs": [],
   "source": [
    "map.add_data(data=df20,name='2020')"
   ]
  },
  {
   "cell_type": "code",
   "execution_count": 18,
   "id": "327c9604-24a2-4a0d-8422-9f21b8d126b7",
   "metadata": {},
   "outputs": [
    {
     "name": "stdout",
     "output_type": "stream",
     "text": [
      "Map saved to 2020.html!\n"
     ]
    }
   ],
   "source": [
    "map.save_to_html(file_name='2020.html',read_only=True)"
   ]
  },
  {
   "cell_type": "code",
   "execution_count": 19,
   "id": "be61f0ea-f291-4f78-a50f-f6ec53c9e677",
   "metadata": {},
   "outputs": [],
   "source": [
    "df06 = pd.read_csv (r'Clean Final 2006 Value Data.csv')"
   ]
  },
  {
   "cell_type": "code",
   "execution_count": 20,
   "id": "1579cd1f-d466-4118-aff0-18f2872d8129",
   "metadata": {},
   "outputs": [],
   "source": [
    "map.add_data(data=df06,name='2006')"
   ]
  },
  {
   "cell_type": "code",
   "execution_count": null,
   "id": "74d955f4-3b80-4a74-b53f-cc1def0549ce",
   "metadata": {},
   "outputs": [],
   "source": []
  }
 ],
 "metadata": {
  "kernelspec": {
   "display_name": "Python 3 (ipykernel)",
   "language": "python",
   "name": "python3"
  },
  "language_info": {
   "codemirror_mode": {
    "name": "ipython",
    "version": 3
   },
   "file_extension": ".py",
   "mimetype": "text/x-python",
   "name": "python",
   "nbconvert_exporter": "python",
   "pygments_lexer": "ipython3",
   "version": "3.9.6"
  }
 },
 "nbformat": 4,
 "nbformat_minor": 5
}
