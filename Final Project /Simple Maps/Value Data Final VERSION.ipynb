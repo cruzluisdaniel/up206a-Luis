{
 "cells": [
  {
   "cell_type": "code",
   "execution_count": 1,
   "id": "46c28cc9-1d77-47ed-a225-441d44f85832",
   "metadata": {},
   "outputs": [
    {
     "name": "stderr",
     "output_type": "stream",
     "text": [
      "/opt/conda/lib/python3.9/site-packages/geopandas/_compat.py:106: UserWarning: The Shapely GEOS version (3.9.1-CAPI-1.14.2) is incompatible with the GEOS version PyGEOS was compiled with (3.10.1-CAPI-1.16.0). Conversions between both will be slow.\n",
      "  warnings.warn(\n"
     ]
    }
   ],
   "source": [
    "import pandas as pd\n",
    "import numpy as np\n",
    "import seaborn as sns\n",
    "\n",
    "# the usuals\n",
    "import geopandas as gpd\n",
    "import matplotlib.pyplot as plt\n",
    "\n",
    "import contextily as ctx\n",
    "from sodapy import Socrata\n",
    "\n",
    "\n",
    "# to explore point patterns\n",
    "from pointpats import centrography\n",
    "from matplotlib.patches import Ellipse\n",
    "\n",
    "\n"
   ]
  },
  {
   "cell_type": "markdown",
   "id": "59d190e4-959d-48ce-8f53-5489b60c6f06",
   "metadata": {},
   "source": [
    "# First, we start off by importing our libraries. "
   ]
  },
  {
   "cell_type": "markdown",
   "id": "48af3de5-b78c-4bf7-99e7-6ca16080cd8e",
   "metadata": {},
   "source": [
    "#### For the sake of time - and need to bucket the various variations in assessed parcel value, we go with KEPLER."
   ]
  },
  {
   "cell_type": "code",
   "execution_count": 2,
   "id": "0dae902d-0e96-4c43-bd4a-f86946fe005d",
   "metadata": {},
   "outputs": [],
   "source": [
    "from keplergl import KeplerGl"
   ]
  },
  {
   "cell_type": "code",
   "execution_count": 3,
   "id": "f871072b-3fcf-4b75-8596-7ffe13e92acb",
   "metadata": {},
   "outputs": [
    {
     "name": "stdout",
     "output_type": "stream",
     "text": [
      "User Guide: https://docs.kepler.gl/docs/keplergl-jupyter\n"
     ]
    },
    {
     "data": {
      "application/vnd.jupyter.widget-view+json": {
       "model_id": "8c02324c88364f2cbb1995f97bb7a0f1",
       "version_major": 2,
       "version_minor": 0
      },
      "text/plain": [
       "KeplerGl(height=600)"
      ]
     },
     "metadata": {},
     "output_type": "display_data"
    }
   ],
   "source": [
    "map = KeplerGl(height=600,width=800)\n",
    "map"
   ]
  },
  {
   "cell_type": "markdown",
   "id": "25d0cfe2-31f6-486e-bd8a-33ce19834231",
   "metadata": {},
   "source": [
    "### We are gonna add data now to our map using csv files that were derived and cleaned from the assessors data portal. I downloaded it as a csv from the API and cleaned it up on Excel."
   ]
  },
  {
   "cell_type": "code",
   "execution_count": 6,
   "id": "7f48578b-e65b-4be9-a273-eed230292e75",
   "metadata": {},
   "outputs": [],
   "source": [
    "df06 = pd.read_csv (r'Clean Final 2006 Value Data.csv')\n",
    "df20 = pd.read_csv (r'Clean Final 2020 Value Data.csv')"
   ]
  },
  {
   "cell_type": "code",
   "execution_count": 7,
   "id": "f75792fa-e091-45b2-8f2a-e3dc82232253",
   "metadata": {},
   "outputs": [],
   "source": [
    "map.add_data(data=df06,name='2006')\n",
    "map.add_data(data=df20,name='2020')"
   ]
  },
  {
   "cell_type": "markdown",
   "id": "1767e12a-a149-4b47-946d-57efc04804cd",
   "metadata": {},
   "source": [
    "### Now i'm going to save the final kepler map to as an HTML "
   ]
  },
  {
   "cell_type": "code",
   "execution_count": 9,
   "id": "327c9604-24a2-4a0d-8422-9f21b8d126b7",
   "metadata": {},
   "outputs": [
    {
     "name": "stdout",
     "output_type": "stream",
     "text": [
      "Map saved to FINALKEPLER!\n"
     ]
    }
   ],
   "source": [
    "map.save_to_html(file_name='FINALKEPLER',read_only=True)"
   ]
  },
  {
   "cell_type": "markdown",
   "id": "99bdc5a8-af54-49a6-9203-82e57d29d051",
   "metadata": {},
   "source": [
    "### Cool"
   ]
  },
  {
   "cell_type": "code",
   "execution_count": null,
   "id": "bd250a47-5328-4eac-ad13-c9d878edffde",
   "metadata": {},
   "outputs": [],
   "source": []
  }
 ],
 "metadata": {
  "kernelspec": {
   "display_name": "Python 3 (ipykernel)",
   "language": "python",
   "name": "python3"
  },
  "language_info": {
   "codemirror_mode": {
    "name": "ipython",
    "version": 3
   },
   "file_extension": ".py",
   "mimetype": "text/x-python",
   "name": "python",
   "nbconvert_exporter": "python",
   "pygments_lexer": "ipython3",
   "version": "3.9.6"
  }
 },
 "nbformat": 4,
 "nbformat_minor": 5
}
