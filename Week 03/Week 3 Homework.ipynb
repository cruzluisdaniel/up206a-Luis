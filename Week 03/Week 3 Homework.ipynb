{
 "cells": [
  {
   "cell_type": "markdown",
   "id": "1f0f6c08-f1b9-48e9-863a-2e2fcca59939",
   "metadata": {},
   "source": [
    "First - we start off by uploading and prepping our notebook. It is good practice to pull up all of our \"libraries\" and \"modules\" upfront. "
   ]
  },
  {
   "cell_type": "code",
   "execution_count": 7,
   "id": "bda19d38-1ac1-406a-87d5-48b074ad038d",
   "metadata": {},
   "outputs": [],
   "source": [
    "import pandas as pd"
   ]
  },
  {
   "cell_type": "code",
   "execution_count": 8,
   "id": "b9bb9918-170c-4627-9eba-5f580a862d87",
   "metadata": {},
   "outputs": [],
   "source": [
    "import geopandas as gpd"
   ]
  },
  {
   "cell_type": "code",
   "execution_count": 9,
   "id": "2f9c29cc-3db5-4f95-9765-67f83fb0d248",
   "metadata": {},
   "outputs": [],
   "source": [
    "import contextily as ctx"
   ]
  },
  {
   "cell_type": "code",
   "execution_count": 10,
   "id": "e4de328e-682a-421c-8eb5-de99d1431241",
   "metadata": {},
   "outputs": [],
   "source": [
    "import matplotlib.pyplot as plt "
   ]
  },
  {
   "cell_type": "markdown",
   "id": "c213f62a-c1ce-4b3b-91ad-46b91b7151c6",
   "metadata": {},
   "source": [
    "Next - we want to load our data files. We want to make sure that our data path is correct. "
   ]
  },
  {
   "cell_type": "code",
   "execution_count": 21,
   "id": "1e26d3b4-7ca8-4b9b-862f-567548522dff",
   "metadata": {},
   "outputs": [],
   "source": [
    "gdf = gpd.read_file('data /acs2019_5yr_B15003_14000US06037601212.geojson')"
   ]
  },
  {
   "cell_type": "markdown",
   "id": "93c81e92-1e28-45e6-9169-481a5e5db44d",
   "metadata": {},
   "source": [
    "## Preliminary Inspection"
   ]
  },
  {
   "cell_type": "markdown",
   "id": "787f1efb-e25c-44d9-a2b7-d5306e3ba48e",
   "metadata": {},
   "source": [
    "Getting familiar with the size of our data. "
   ]
  },
  {
   "cell_type": "code",
   "execution_count": 22,
   "id": "50c4635c-e152-4488-9efb-757e282e7141",
   "metadata": {},
   "outputs": [
    {
     "data": {
      "text/plain": [
       "(32, 53)"
      ]
     },
     "execution_count": 22,
     "metadata": {},
     "output_type": "execute_result"
    }
   ],
   "source": [
    "gdf.shape"
   ]
  },
  {
   "cell_type": "markdown",
   "id": "b73e327c-a92f-4f64-b367-530eb5b3f4f4",
   "metadata": {},
   "source": [
    "### For the \"shape\" - is it telling us 32 columns and 53 rows?"
   ]
  },
  {
   "cell_type": "code",
   "execution_count": 25,
   "id": "2bb4c24f-a0a0-4baf-950b-14358cf13f6f",
   "metadata": {},
   "outputs": [
    {
     "data": {
      "text/html": [
       "<div>\n",
       "<style scoped>\n",
       "    .dataframe tbody tr th:only-of-type {\n",
       "        vertical-align: middle;\n",
       "    }\n",
       "\n",
       "    .dataframe tbody tr th {\n",
       "        vertical-align: top;\n",
       "    }\n",
       "\n",
       "    .dataframe thead th {\n",
       "        text-align: right;\n",
       "    }\n",
       "</style>\n",
       "<table border=\"1\" class=\"dataframe\">\n",
       "  <thead>\n",
       "    <tr style=\"text-align: right;\">\n",
       "      <th></th>\n",
       "      <th>geoid</th>\n",
       "      <th>name</th>\n",
       "      <th>B15003001</th>\n",
       "      <th>B15003001, Error</th>\n",
       "      <th>B15003002</th>\n",
       "      <th>B15003002, Error</th>\n",
       "      <th>B15003003</th>\n",
       "      <th>B15003003, Error</th>\n",
       "      <th>B15003004</th>\n",
       "      <th>B15003004, Error</th>\n",
       "      <th>...</th>\n",
       "      <th>B15003021, Error</th>\n",
       "      <th>B15003022</th>\n",
       "      <th>B15003022, Error</th>\n",
       "      <th>B15003023</th>\n",
       "      <th>B15003023, Error</th>\n",
       "      <th>B15003024</th>\n",
       "      <th>B15003024, Error</th>\n",
       "      <th>B15003025</th>\n",
       "      <th>B15003025, Error</th>\n",
       "      <th>geometry</th>\n",
       "    </tr>\n",
       "  </thead>\n",
       "  <tbody>\n",
       "    <tr>\n",
       "      <th>0</th>\n",
       "      <td>14000US06037600501</td>\n",
       "      <td>Census Tract 6005.01, Los Angeles, CA</td>\n",
       "      <td>1857.0</td>\n",
       "      <td>172.0</td>\n",
       "      <td>51.0</td>\n",
       "      <td>29.0</td>\n",
       "      <td>0.0</td>\n",
       "      <td>12.0</td>\n",
       "      <td>0.0</td>\n",
       "      <td>12.0</td>\n",
       "      <td>...</td>\n",
       "      <td>56.0</td>\n",
       "      <td>324.0</td>\n",
       "      <td>86.0</td>\n",
       "      <td>116.0</td>\n",
       "      <td>57.0</td>\n",
       "      <td>6.0</td>\n",
       "      <td>8.0</td>\n",
       "      <td>21.0</td>\n",
       "      <td>22.0</td>\n",
       "      <td>MULTIPOLYGON (((-118.32642 33.93293, -118.3264...</td>\n",
       "    </tr>\n",
       "    <tr>\n",
       "      <th>1</th>\n",
       "      <td>14000US06037600502</td>\n",
       "      <td>Census Tract 6005.02, Los Angeles, CA</td>\n",
       "      <td>1580.0</td>\n",
       "      <td>191.0</td>\n",
       "      <td>94.0</td>\n",
       "      <td>58.0</td>\n",
       "      <td>0.0</td>\n",
       "      <td>12.0</td>\n",
       "      <td>0.0</td>\n",
       "      <td>12.0</td>\n",
       "      <td>...</td>\n",
       "      <td>71.0</td>\n",
       "      <td>298.0</td>\n",
       "      <td>126.0</td>\n",
       "      <td>47.0</td>\n",
       "      <td>28.0</td>\n",
       "      <td>13.0</td>\n",
       "      <td>13.0</td>\n",
       "      <td>26.0</td>\n",
       "      <td>32.0</td>\n",
       "      <td>MULTIPOLYGON (((-118.33737 33.92796, -118.3373...</td>\n",
       "    </tr>\n",
       "    <tr>\n",
       "      <th>2</th>\n",
       "      <td>14000US06037600601</td>\n",
       "      <td>Census Tract 6006.01, Los Angeles, CA</td>\n",
       "      <td>1910.0</td>\n",
       "      <td>134.0</td>\n",
       "      <td>72.0</td>\n",
       "      <td>35.0</td>\n",
       "      <td>0.0</td>\n",
       "      <td>12.0</td>\n",
       "      <td>5.0</td>\n",
       "      <td>9.0</td>\n",
       "      <td>...</td>\n",
       "      <td>63.0</td>\n",
       "      <td>351.0</td>\n",
       "      <td>92.0</td>\n",
       "      <td>181.0</td>\n",
       "      <td>60.0</td>\n",
       "      <td>0.0</td>\n",
       "      <td>12.0</td>\n",
       "      <td>22.0</td>\n",
       "      <td>18.0</td>\n",
       "      <td>MULTIPOLYGON (((-118.32641 33.93870, -118.3264...</td>\n",
       "    </tr>\n",
       "    <tr>\n",
       "      <th>3</th>\n",
       "      <td>14000US06037600602</td>\n",
       "      <td>Census Tract 6006.02, Los Angeles, CA</td>\n",
       "      <td>1437.0</td>\n",
       "      <td>173.0</td>\n",
       "      <td>82.0</td>\n",
       "      <td>42.0</td>\n",
       "      <td>0.0</td>\n",
       "      <td>12.0</td>\n",
       "      <td>0.0</td>\n",
       "      <td>12.0</td>\n",
       "      <td>...</td>\n",
       "      <td>43.0</td>\n",
       "      <td>76.0</td>\n",
       "      <td>39.0</td>\n",
       "      <td>51.0</td>\n",
       "      <td>54.0</td>\n",
       "      <td>0.0</td>\n",
       "      <td>12.0</td>\n",
       "      <td>0.0</td>\n",
       "      <td>12.0</td>\n",
       "      <td>MULTIPOLYGON (((-118.33516 33.94108, -118.3351...</td>\n",
       "    </tr>\n",
       "    <tr>\n",
       "      <th>4</th>\n",
       "      <td>14000US06037600702</td>\n",
       "      <td>Census Tract 6007.02, Los Angeles, CA</td>\n",
       "      <td>3227.0</td>\n",
       "      <td>363.0</td>\n",
       "      <td>133.0</td>\n",
       "      <td>149.0</td>\n",
       "      <td>8.0</td>\n",
       "      <td>12.0</td>\n",
       "      <td>0.0</td>\n",
       "      <td>12.0</td>\n",
       "      <td>...</td>\n",
       "      <td>110.0</td>\n",
       "      <td>503.0</td>\n",
       "      <td>140.0</td>\n",
       "      <td>368.0</td>\n",
       "      <td>164.0</td>\n",
       "      <td>59.0</td>\n",
       "      <td>52.0</td>\n",
       "      <td>38.0</td>\n",
       "      <td>30.0</td>\n",
       "      <td>MULTIPOLYGON (((-118.34393 33.95271, -118.3439...</td>\n",
       "    </tr>\n",
       "  </tbody>\n",
       "</table>\n",
       "<p>5 rows × 53 columns</p>\n",
       "</div>"
      ],
      "text/plain": [
       "                geoid                                   name  B15003001  \\\n",
       "0  14000US06037600501  Census Tract 6005.01, Los Angeles, CA     1857.0   \n",
       "1  14000US06037600502  Census Tract 6005.02, Los Angeles, CA     1580.0   \n",
       "2  14000US06037600601  Census Tract 6006.01, Los Angeles, CA     1910.0   \n",
       "3  14000US06037600602  Census Tract 6006.02, Los Angeles, CA     1437.0   \n",
       "4  14000US06037600702  Census Tract 6007.02, Los Angeles, CA     3227.0   \n",
       "\n",
       "   B15003001, Error  B15003002  B15003002, Error  B15003003  B15003003, Error  \\\n",
       "0             172.0       51.0              29.0        0.0              12.0   \n",
       "1             191.0       94.0              58.0        0.0              12.0   \n",
       "2             134.0       72.0              35.0        0.0              12.0   \n",
       "3             173.0       82.0              42.0        0.0              12.0   \n",
       "4             363.0      133.0             149.0        8.0              12.0   \n",
       "\n",
       "   B15003004  B15003004, Error  ...  B15003021, Error  B15003022  \\\n",
       "0        0.0              12.0  ...              56.0      324.0   \n",
       "1        0.0              12.0  ...              71.0      298.0   \n",
       "2        5.0               9.0  ...              63.0      351.0   \n",
       "3        0.0              12.0  ...              43.0       76.0   \n",
       "4        0.0              12.0  ...             110.0      503.0   \n",
       "\n",
       "   B15003022, Error  B15003023  B15003023, Error  B15003024  B15003024, Error  \\\n",
       "0              86.0      116.0              57.0        6.0               8.0   \n",
       "1             126.0       47.0              28.0       13.0              13.0   \n",
       "2              92.0      181.0              60.0        0.0              12.0   \n",
       "3              39.0       51.0              54.0        0.0              12.0   \n",
       "4             140.0      368.0             164.0       59.0              52.0   \n",
       "\n",
       "   B15003025  B15003025, Error  \\\n",
       "0       21.0              22.0   \n",
       "1       26.0              32.0   \n",
       "2       22.0              18.0   \n",
       "3        0.0              12.0   \n",
       "4       38.0              30.0   \n",
       "\n",
       "                                            geometry  \n",
       "0  MULTIPOLYGON (((-118.32642 33.93293, -118.3264...  \n",
       "1  MULTIPOLYGON (((-118.33737 33.92796, -118.3373...  \n",
       "2  MULTIPOLYGON (((-118.32641 33.93870, -118.3264...  \n",
       "3  MULTIPOLYGON (((-118.33516 33.94108, -118.3351...  \n",
       "4  MULTIPOLYGON (((-118.34393 33.95271, -118.3439...  \n",
       "\n",
       "[5 rows x 53 columns]"
      ]
     },
     "execution_count": 25,
     "metadata": {},
     "output_type": "execute_result"
    }
   ],
   "source": [
    "gdf.head()"
   ]
  },
  {
   "cell_type": "markdown",
   "id": "3c833457-8efe-4f58-98b7-b8436a0b11f7",
   "metadata": {},
   "source": [
    "### For the plots, why is it 10,10?"
   ]
  },
  {
   "cell_type": "code",
   "execution_count": 26,
   "id": "266e9dcf-2587-4286-b3ba-7a263586a98f",
   "metadata": {},
   "outputs": [
    {
     "data": {
      "text/plain": [
       "<AxesSubplot:>"
      ]
     },
     "execution_count": 26,
     "metadata": {},
     "output_type": "execute_result"
    },
    {
     "data": {
      "image/png": "[encoded data removed]",
      "text/plain": [
       "<Figure size 720x720 with 1 Axes>"
      ]
     },
     "metadata": {
      "needs_background": "light"
     },
     "output_type": "display_data"
    }
   ],
   "source": [
    "gdf.plot(figsize=(10,10))"
   ]
  },
  {
   "cell_type": "markdown",
   "id": "7a751db5-939f-4379-ba99-20ef8b17f2e2",
   "metadata": {},
   "source": [
    "Ohhh, its a default setting LOL "
   ]
  },
  {
   "cell_type": "code",
   "execution_count": 28,
   "id": "1dca3429-b143-4375-92da-080daf400581",
   "metadata": {},
   "outputs": [],
   "source": [
    "# I want to see all the data? what you mean jelly bean?"
   ]
  },
  {
   "cell_type": "code",
   "execution_count": 29,
   "id": "8e0f4fdf-9895-4584-b57c-7c370ba2aa00",
   "metadata": {},
   "outputs": [],
   "source": [
    "pd.set_option('display.max_columns', None)\n",
    "pd.set_option('display.max_rows', None)"
   ]
  },
  {
   "cell_type": "code",
   "execution_count": 30,
   "id": "96f80053-d8c8-46d2-a13f-eac00aaaae1a",
   "metadata": {},
   "outputs": [
    {
     "data": {
      "text/html": [
       "<div>\n",
       "<style scoped>\n",
       "    .dataframe tbody tr th:only-of-type {\n",
       "        vertical-align: middle;\n",
       "    }\n",
       "\n",
       "    .dataframe tbody tr th {\n",
       "        vertical-align: top;\n",
       "    }\n",
       "\n",
       "    .dataframe thead th {\n",
       "        text-align: right;\n",
       "    }\n",
       "</style>\n",
       "<table border=\"1\" class=\"dataframe\">\n",
       "  <thead>\n",
       "    <tr style=\"text-align: right;\">\n",
       "      <th></th>\n",
       "      <th>geoid</th>\n",
       "      <th>name</th>\n",
       "      <th>B15003001</th>\n",
       "      <th>B15003001, Error</th>\n",
       "      <th>B15003002</th>\n",
       "      <th>B15003002, Error</th>\n",
       "      <th>B15003003</th>\n",
       "      <th>B15003003, Error</th>\n",
       "      <th>B15003004</th>\n",
       "      <th>B15003004, Error</th>\n",
       "      <th>B15003005</th>\n",
       "      <th>B15003005, Error</th>\n",
       "      <th>B15003006</th>\n",
       "      <th>B15003006, Error</th>\n",
       "      <th>B15003007</th>\n",
       "      <th>B15003007, Error</th>\n",
       "      <th>B15003008</th>\n",
       "      <th>B15003008, Error</th>\n",
       "      <th>B15003009</th>\n",
       "      <th>B15003009, Error</th>\n",
       "      <th>B15003010</th>\n",
       "      <th>B15003010, Error</th>\n",
       "      <th>B15003011</th>\n",
       "      <th>B15003011, Error</th>\n",
       "      <th>B15003012</th>\n",
       "      <th>B15003012, Error</th>\n",
       "      <th>B15003013</th>\n",
       "      <th>B15003013, Error</th>\n",
       "      <th>B15003014</th>\n",
       "      <th>B15003014, Error</th>\n",
       "      <th>B15003015</th>\n",
       "      <th>B15003015, Error</th>\n",
       "      <th>B15003016</th>\n",
       "      <th>B15003016, Error</th>\n",
       "      <th>B15003017</th>\n",
       "      <th>B15003017, Error</th>\n",
       "      <th>B15003018</th>\n",
       "      <th>B15003018, Error</th>\n",
       "      <th>B15003019</th>\n",
       "      <th>B15003019, Error</th>\n",
       "      <th>B15003020</th>\n",
       "      <th>B15003020, Error</th>\n",
       "      <th>B15003021</th>\n",
       "      <th>B15003021, Error</th>\n",
       "      <th>B15003022</th>\n",
       "      <th>B15003022, Error</th>\n",
       "      <th>B15003023</th>\n",
       "      <th>B15003023, Error</th>\n",
       "      <th>B15003024</th>\n",
       "      <th>B15003024, Error</th>\n",
       "      <th>B15003025</th>\n",
       "      <th>B15003025, Error</th>\n",
       "      <th>geometry</th>\n",
       "    </tr>\n",
       "  </thead>\n",
       "  <tbody>\n",
       "    <tr>\n",
       "      <th>1</th>\n",
       "      <td>14000US06037600502</td>\n",
       "      <td>Census Tract 6005.02, Los Angeles, CA</td>\n",
       "      <td>1580.0</td>\n",
       "      <td>191.0</td>\n",
       "      <td>94.0</td>\n",
       "      <td>58.0</td>\n",
       "      <td>0.0</td>\n",
       "      <td>12.0</td>\n",
       "      <td>0.0</td>\n",
       "      <td>12.0</td>\n",
       "      <td>0.0</td>\n",
       "      <td>12.0</td>\n",
       "      <td>0.0</td>\n",
       "      <td>12.0</td>\n",
       "      <td>0.0</td>\n",
       "      <td>12.0</td>\n",
       "      <td>0.0</td>\n",
       "      <td>12.0</td>\n",
       "      <td>41.0</td>\n",
       "      <td>37.0</td>\n",
       "      <td>59.0</td>\n",
       "      <td>37.0</td>\n",
       "      <td>0.0</td>\n",
       "      <td>12.0</td>\n",
       "      <td>37.0</td>\n",
       "      <td>25.0</td>\n",
       "      <td>64.0</td>\n",
       "      <td>48.0</td>\n",
       "      <td>0.0</td>\n",
       "      <td>12.0</td>\n",
       "      <td>21.0</td>\n",
       "      <td>17.0</td>\n",
       "      <td>30.0</td>\n",
       "      <td>21.0</td>\n",
       "      <td>326.0</td>\n",
       "      <td>122.0</td>\n",
       "      <td>38.0</td>\n",
       "      <td>29.0</td>\n",
       "      <td>61.0</td>\n",
       "      <td>32.0</td>\n",
       "      <td>266.0</td>\n",
       "      <td>116.0</td>\n",
       "      <td>159.0</td>\n",
       "      <td>71.0</td>\n",
       "      <td>298.0</td>\n",
       "      <td>126.0</td>\n",
       "      <td>47.0</td>\n",
       "      <td>28.0</td>\n",
       "      <td>13.0</td>\n",
       "      <td>13.0</td>\n",
       "      <td>26.0</td>\n",
       "      <td>32.0</td>\n",
       "      <td>MULTIPOLYGON (((-118.33737 33.92796, -118.3373...</td>\n",
       "    </tr>\n",
       "  </tbody>\n",
       "</table>\n",
       "</div>"
      ],
      "text/plain": [
       "                geoid                                   name  B15003001  \\\n",
       "1  14000US06037600502  Census Tract 6005.02, Los Angeles, CA     1580.0   \n",
       "\n",
       "   B15003001, Error  B15003002  B15003002, Error  B15003003  B15003003, Error  \\\n",
       "1             191.0       94.0              58.0        0.0              12.0   \n",
       "\n",
       "   B15003004  B15003004, Error  B15003005  B15003005, Error  B15003006  \\\n",
       "1        0.0              12.0        0.0              12.0        0.0   \n",
       "\n",
       "   B15003006, Error  B15003007  B15003007, Error  B15003008  B15003008, Error  \\\n",
       "1              12.0        0.0              12.0        0.0              12.0   \n",
       "\n",
       "   B15003009  B15003009, Error  B15003010  B15003010, Error  B15003011  \\\n",
       "1       41.0              37.0       59.0              37.0        0.0   \n",
       "\n",
       "   B15003011, Error  B15003012  B15003012, Error  B15003013  B15003013, Error  \\\n",
       "1              12.0       37.0              25.0       64.0              48.0   \n",
       "\n",
       "   B15003014  B15003014, Error  B15003015  B15003015, Error  B15003016  \\\n",
       "1        0.0              12.0       21.0              17.0       30.0   \n",
       "\n",
       "   B15003016, Error  B15003017  B15003017, Error  B15003018  B15003018, Error  \\\n",
       "1              21.0      326.0             122.0       38.0              29.0   \n",
       "\n",
       "   B15003019  B15003019, Error  B15003020  B15003020, Error  B15003021  \\\n",
       "1       61.0              32.0      266.0             116.0      159.0   \n",
       "\n",
       "   B15003021, Error  B15003022  B15003022, Error  B15003023  B15003023, Error  \\\n",
       "1              71.0      298.0             126.0       47.0              28.0   \n",
       "\n",
       "   B15003024  B15003024, Error  B15003025  B15003025, Error  \\\n",
       "1       13.0              13.0       26.0              32.0   \n",
       "\n",
       "                                            geometry  \n",
       "1  MULTIPOLYGON (((-118.33737 33.92796, -118.3373...  "
      ]
     },
     "execution_count": 30,
     "metadata": {},
     "output_type": "execute_result"
    }
   ],
   "source": [
    "gdf.sample()"
   ]
  },
  {
   "cell_type": "markdown",
   "id": "7015ef7f-e6ed-43f1-914b-6b9f4dbb9867",
   "metadata": {},
   "source": [
    "Ahhh, ok - so now you showing me all 32 columns of the data. So 32 was the number of columns sis?"
   ]
  },
  {
   "cell_type": "markdown",
   "id": "c62665ef-8470-41b9-94f8-6da98482534e",
   "metadata": {},
   "source": [
    "### Data Types "
   ]
  },
  {
   "cell_type": "markdown",
   "id": "9a9ee794-d831-442b-966f-c2093a4391bc",
   "metadata": {},
   "source": [
    "I dont know what kind of data I am looking at ... ID YOUR SELF! "
   ]
  },
  {
   "cell_type": "code",
   "execution_count": 32,
   "id": "bc8956b3-7b95-4ac9-8c56-6b0ea99c7181",
   "metadata": {},
   "outputs": [
    {
     "name": "stdout",
     "output_type": "stream",
     "text": [
      "<class 'geopandas.geodataframe.GeoDataFrame'>\n",
      "RangeIndex: 32 entries, 0 to 31\n",
      "Data columns (total 53 columns):\n",
      " #   Column            Non-Null Count  Dtype   \n",
      "---  ------            --------------  -----   \n",
      " 0   geoid             32 non-null     object  \n",
      " 1   name              32 non-null     object  \n",
      " 2   B15003001         32 non-null     float64 \n",
      " 3   B15003001, Error  32 non-null     float64 \n",
      " 4   B15003002         32 non-null     float64 \n",
      " 5   B15003002, Error  32 non-null     float64 \n",
      " 6   B15003003         32 non-null     float64 \n",
      " 7   B15003003, Error  32 non-null     float64 \n",
      " 8   B15003004         32 non-null     float64 \n",
      " 9   B15003004, Error  32 non-null     float64 \n",
      " 10  B15003005         32 non-null     float64 \n",
      " 11  B15003005, Error  32 non-null     float64 \n",
      " 12  B15003006         32 non-null     float64 \n",
      " 13  B15003006, Error  32 non-null     float64 \n",
      " 14  B15003007         32 non-null     float64 \n",
      " 15  B15003007, Error  32 non-null     float64 \n",
      " 16  B15003008         32 non-null     float64 \n",
      " 17  B15003008, Error  32 non-null     float64 \n",
      " 18  B15003009         32 non-null     float64 \n",
      " 19  B15003009, Error  32 non-null     float64 \n",
      " 20  B15003010         32 non-null     float64 \n",
      " 21  B15003010, Error  32 non-null     float64 \n",
      " 22  B15003011         32 non-null     float64 \n",
      " 23  B15003011, Error  32 non-null     float64 \n",
      " 24  B15003012         32 non-null     float64 \n",
      " 25  B15003012, Error  32 non-null     float64 \n",
      " 26  B15003013         32 non-null     float64 \n",
      " 27  B15003013, Error  32 non-null     float64 \n",
      " 28  B15003014         32 non-null     float64 \n",
      " 29  B15003014, Error  32 non-null     float64 \n",
      " 30  B15003015         32 non-null     float64 \n",
      " 31  B15003015, Error  32 non-null     float64 \n",
      " 32  B15003016         32 non-null     float64 \n",
      " 33  B15003016, Error  32 non-null     float64 \n",
      " 34  B15003017         32 non-null     float64 \n",
      " 35  B15003017, Error  32 non-null     float64 \n",
      " 36  B15003018         32 non-null     float64 \n",
      " 37  B15003018, Error  32 non-null     float64 \n",
      " 38  B15003019         32 non-null     float64 \n",
      " 39  B15003019, Error  32 non-null     float64 \n",
      " 40  B15003020         32 non-null     float64 \n",
      " 41  B15003020, Error  32 non-null     float64 \n",
      " 42  B15003021         32 non-null     float64 \n",
      " 43  B15003021, Error  32 non-null     float64 \n",
      " 44  B15003022         32 non-null     float64 \n",
      " 45  B15003022, Error  32 non-null     float64 \n",
      " 46  B15003023         32 non-null     float64 \n",
      " 47  B15003023, Error  32 non-null     float64 \n",
      " 48  B15003024         32 non-null     float64 \n",
      " 49  B15003024, Error  32 non-null     float64 \n",
      " 50  B15003025         32 non-null     float64 \n",
      " 51  B15003025, Error  32 non-null     float64 \n",
      " 52  geometry          32 non-null     geometry\n",
      "dtypes: float64(50), geometry(1), object(2)\n",
      "memory usage: 13.4+ KB\n"
     ]
    }
   ],
   "source": [
    "gdf.info()"
   ]
  },
  {
   "cell_type": "markdown",
   "id": "75097f2e-7e75-4d10-9f03-1f6f98f353f1",
   "metadata": {},
   "source": [
    "The data types include: Object, float64, & geometry."
   ]
  },
  {
   "cell_type": "code",
   "execution_count": 34,
   "id": "1f04f09b-9ddc-41e9-a4cf-327c6e8b0713",
   "metadata": {},
   "outputs": [],
   "source": [
    "#BUT WHAT DOES IT ALL MEAN????"
   ]
  },
  {
   "cell_type": "markdown",
   "id": "bbd3aea0-3e32-4f7c-b935-552a39450b1c",
   "metadata": {},
   "source": [
    "Welp... this space will explain that eventually. "
   ]
  },
  {
   "cell_type": "markdown",
   "id": "7f6bb865-7388-4823-9ebe-011ab41b2ae2",
   "metadata": {},
   "source": [
    "# Take a look at your FIPS Code!"
   ]
  },
  {
   "cell_type": "code",
   "execution_count": 36,
   "id": "f712e0b9-c76e-4ff7-a0bf-c024551d92d3",
   "metadata": {},
   "outputs": [
    {
     "data": {
      "text/plain": [
       "0    14000US06037600501\n",
       "1    14000US06037600502\n",
       "2    14000US06037600601\n",
       "3    14000US06037600602\n",
       "4    14000US06037600702\n",
       "Name: geoid, dtype: object"
      ]
     },
     "execution_count": 36,
     "metadata": {},
     "output_type": "execute_result"
    }
   ],
   "source": [
    "gdf.geoid.head()"
   ]
  },
  {
   "cell_type": "code",
   "execution_count": 39,
   "id": "49516002-92a5-4850-8ceb-753d3db88a22",
   "metadata": {},
   "outputs": [],
   "source": [
    "# Remember - Yoh said: the 14000US is pretty much standard data info - \n",
    "# I think it has to do with the numbers of \n",
    "# census surveys there has been, but thats just a guess."
   ]
  },
  {
   "cell_type": "code",
   "execution_count": null,
   "id": "e5fa6806-ba2e-47c6-afa0-f77f6a979168",
   "metadata": {},
   "outputs": [],
   "source": []
  }
 ],
 "metadata": {
  "kernelspec": {
   "display_name": "Python 3 (ipykernel)",
   "language": "python",
   "name": "python3"
  },
  "language_info": {
   "codemirror_mode": {
    "name": "ipython",
    "version": 3
   },
   "file_extension": ".py",
   "mimetype": "text/x-python",
   "name": "python",
   "nbconvert_exporter": "python",
   "pygments_lexer": "ipython3",
   "version": "3.9.6"
  }
 },
 "nbformat": 4,
 "nbformat_minor": 5
}
